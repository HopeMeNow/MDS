{
 "cells": [
  {
   "cell_type": "code",
   "execution_count": 25,
   "metadata": {},
   "outputs": [
    {
     "name": "stdout",
     "output_type": "stream",
     "text": [
      "edge_probab = 0.010819963503439287\n",
      "rgraph_edges = 87692\n",
      "rgraph_nodes = 4039\n",
      "rgraph_acc = 0.010646584834280113\n"
     ]
    }
   ],
   "source": [
    "import networkx as nx\n",
    "import numpy as np\n",
    "\n",
    "# # Read data from the dataset, and create graph G_fb\n",
    "# G_fb = nx.read_edgelist(\"facebook_combined.txt\", create_using = nx.Graph(), nodetype=int)\n",
    "\n",
    "# # Show the number of edges in G_fb\n",
    "# fb_number_of_edges = G_fb.number_of_edges()\n",
    "# print(\"edges = \" + str(fb_number_of_edges))\n",
    "\n",
    "# # Show number of nodes in G_fb\n",
    "fb_number_of_nodes = 4039\n",
    "# print(\"nodes = \" + str(fb_number_of_nodes))\n",
    "\n",
    "# # TASK1. Now your task is to compute the probability whether there is an edge between two vertices.\n",
    "# max_edges = (fb_number_of_nodes*(fb_number_of_nodes-1))/2\n",
    "edge_probab = 0.010819963503439287\n",
    "\n",
    "print(\"edge_probab = \" + str(edge_probab))\n",
    "\n",
    "# TASK2. Compute the ACC (average clustering coefficient) of G_fb\n",
    "# (consult the NetworkX manual or the video lecture for the correct function which does it)\n",
    "# av_clust_coeff =  nx.average_clustering(G_fb)\n",
    "\n",
    "# print(\"fbgraph_acc = \" + str(av_clust_coeff))\n",
    "\n",
    "# Now we have to generate a random graph. First we initialize it\n",
    "G_rand = nx.Graph()\n",
    "\n",
    "# TASK3. generate edges in G_rand at random:\n",
    "for i in range(0,fb_number_of_nodes) :\n",
    "    for j in range(0,i) : \n",
    "        # Add an edge between vertices i and j, with probability edge_probab (as in G_fb)\n",
    "        is_edge = np.random.choice([1, 0], 1, p=[edge_probab, 1.00 - edge_probab])[0]\n",
    "        if is_edge:\n",
    "            G_rand.add_edge(i, j)\n",
    "        \n",
    "# Now we print out the number of edges and the ACC of the new graph\n",
    "print(\"rgraph_edges = \" + str(G_rand.number_of_edges()))\n",
    "print(\"rgraph_nodes = \" + str(G_rand.number_of_nodes()))\n",
    "\n",
    "av_clust_coeff = nx.average_clustering(G_rand)\n",
    "\n",
    "print(\"rgraph_acc = \" + str(av_clust_coeff))\n",
    "\n",
    "# The results which should be submitted to the grader include the ACC of G_fb and of G_rand. Good luck!"
   ]
  },
  {
   "cell_type": "code",
   "execution_count": null,
   "metadata": {},
   "outputs": [],
   "source": []
  }
 ],
 "metadata": {
  "kernelspec": {
   "display_name": "Python 3",
   "language": "python",
   "name": "python3"
  },
  "language_info": {
   "codemirror_mode": {
    "name": "ipython",
    "version": 3
   },
   "file_extension": ".py",
   "mimetype": "text/x-python",
   "name": "python",
   "nbconvert_exporter": "python",
   "pygments_lexer": "ipython3",
   "version": "3.7.6"
  }
 },
 "nbformat": 4,
 "nbformat_minor": 4
}
