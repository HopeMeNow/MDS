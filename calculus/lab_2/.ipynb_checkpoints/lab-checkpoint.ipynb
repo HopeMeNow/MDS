{
 "cells": [
  {
   "cell_type": "markdown",
   "metadata": {},
   "source": [
    "# Numerical Integration\n",
    "\n",
    "As we discussed during the week, differentiation is the technical and always manageable task. In the same time calculation of the definite integral by the **fundamental theorem of calculus** requires _integrability in elementary functions_ (which is not guaranteed at all).\n",
    "\n",
    "Thus the closest one can get to the estimation of such integral is **numerical approximation**.\n",
    "\n",
    "We propose you to try yourself in this task following our instructions.\n",
    "\n",
    "## Quick refresher\n",
    "\n",
    "Assume that we have some nice smooth function $f(x)$ on a segment $[a,b]$.\n",
    "\n",
    "To compute definite integral, one should consider tagged partition of the segment:\n",
    "$$\n",
    "a=x_0<x_1<x_2<\\ldots<x_n=b\n",
    "$$\n",
    "with tagging $t_i \\in [x_{i-1}, x_i]$. We assume uniform grid:\n",
    "$$\n",
    "x_i-x_{i-1}=h\n",
    "$$\n",
    "Then Riemann sum is an approximation of the integral:\n",
    "$$\n",
    "R(t, h)=\\sum_{i=1}^n f(t_i) (x_i-x_{i-1})=h \\sum_{i=1}^n f(t_i)\n",
    "$$\n",
    "\n",
    "![](pic12.png)\n",
    "\n",
    "### Task 1. Midpoint rule\n",
    "\n",
    "Let us start with basic imports: we start with `numpy` and `math` to work with arrays and mathematical functions (for `numpy` introduction and playground you can refer to the last week of our course or your Python course):"
   ]
  },
  {
   "cell_type": "code",
   "execution_count": 1,
   "metadata": {},
   "outputs": [],
   "source": [
    "import numpy as np\n",
    "from math import *"
   ]
  },
  {
   "cell_type": "markdown",
   "metadata": {},
   "source": [
    "Also we import and setup a couple of plotting libraries to make life prettier:"
   ]
  },
  {
   "cell_type": "code",
   "execution_count": 2,
   "metadata": {},
   "outputs": [],
   "source": [
    "import matplotlib.pyplot as plt\n",
    "import seaborn as sns\n",
    "sns.set()\n",
    "sns.set_context(\"notebook\", font_scale=2.0, rc={\"lines.linewidth\": 4.0})\n",
    "sns.set_palette('cubehelix')\n",
    "\n",
    "%matplotlib inline"
   ]
  },
  {
   "cell_type": "markdown",
   "metadata": {},
   "source": [
    "Now we ask you to implement midpoint rule:\n",
    "\n",
    "![](pic13.png)\n",
    "\n",
    "In other words: \n",
    "$$\n",
    "t_i=\\frac{x_{i-1}+x_i}{2}\n",
    "$$\n",
    "$$\n",
    "\\int_a^b f(x)dx \\approx \\frac{b-a}{n}\\sum_{i=1}^n f\\left( \\frac{x_{i-1}+x_i}{2} \\right) \n",
    "$$\n",
    "\n",
    "Write the function\n",
    "```\n",
    "def middle(f, a, b, n):\n",
    "```\n",
    "that takes as an input function `f` and returns the Riemann sum by midpoint rule:"
   ]
  },
  {
   "cell_type": "code",
   "execution_count": 72,
   "metadata": {},
   "outputs": [],
   "source": [
    "def middle(f, a, b, n):\n",
    "    # your code goes here\n",
    "    h = (b-a)/(n-1)\n",
    "    x=np.arange(a, b+h, h)\n",
    "    func = np.vectorize(f)\n",
    "    I = h*sum(func((x[:-1] + x[1:])/2))\n",
    "    return I"
   ]
  },
  {
   "cell_type": "code",
   "execution_count": 73,
   "metadata": {},
   "outputs": [
    {
     "data": {
      "text/plain": [
       "1.026172152977031"
      ]
     },
     "execution_count": 73,
     "metadata": {},
     "output_type": "execute_result"
    }
   ],
   "source": [
    "middle(cos, 0, np.pi/2, 3)"
   ]
  },
  {
   "cell_type": "markdown",
   "metadata": {},
   "source": [
    "Run the following cell to get automatic basic check of your function (do not change it!):"
   ]
  },
  {
   "cell_type": "code",
   "execution_count": 74,
   "metadata": {},
   "outputs": [
    {
     "name": "stdout",
     "output_type": "stream",
     "text": [
      "Test 1  |::|  err= 1.0280911904692047e-05   |::|   time= 0.00023794174194335938 s\n",
      "Test 1  |::|  accuracy OK\n",
      "Test 2  |::|  err= 0.0007980231737021448   |::|   time= 0.00015282630920410156 s\n",
      "Test 2  |::|  accuracy OK\n",
      "Test 3  |::|  err= 2.523325115966202e-06   |::|   time= 0.0002589225769042969 s\n",
      "Test 3  |::|  accuracy OK\n",
      "Passed:  3 /3\n"
     ]
    }
   ],
   "source": [
    "import checker\n",
    "checker.exact_checker(middle)"
   ]
  },
  {
   "cell_type": "markdown",
   "metadata": {},
   "source": [
    "### Task 2. Plot the result\n",
    "\n",
    "Let us also plot a nice picture here. Consider $f(x)=\\cos(x)$, $[a,b]=[0, \\pi/2]$ and $n=10$. Plot the functions, midpoints, and corresponding reactangles (it is useful to use command `plt.bar`). You should get something like this: \n",
    "\n",
    "![](res.png)"
   ]
  },
  {
   "cell_type": "code",
   "execution_count": 113,
   "metadata": {},
   "outputs": [
    {
     "data": {
      "text/plain": [
       "<matplotlib.legend.Legend at 0x7ff42f40c0d0>"
      ]
     },
     "execution_count": 113,
     "metadata": {},
     "output_type": "execute_result"
    },
    {
     "data": {
      "image/png": "[encoded data removed]",
      "text/plain": [
       "<Figure size 576x576 with 1 Axes>"
      ]
     },
     "metadata": {
      "needs_background": "light"
     },
     "output_type": "display_data"
    }
   ],
   "source": [
    "f=lambda x: cos(x)\n",
    "a=0\n",
    "b=np.pi/2\n",
    "n=10\n",
    "\n",
    "h = (b-a)/(n-1)\n",
    "\n",
    "plt.figure(figsize=(8,8))\n",
    "x = np.arange(a, b+h, h)\n",
    "f = np.vectorize(f)\n",
    "\n",
    "plt.plot(x, f(x), color='k', linewidth=3, label='Real cos(x)')\n",
    "\n",
    "centers = 0.5*(x[1:] + x[:-1])\n",
    "plt.bar(centers, f(centers), color='c', width=h)\n",
    "plt.plot(centers, f(centers),'o', color='r', label='Midpoints')\n",
    "plt.legend()"
   ]
  },
  {
   "cell_type": "markdown",
   "metadata": {},
   "source": [
    "### Task 3. Trapezoidal rule\n",
    "\n",
    "The idea here is easily formulated by the picture:\n",
    "![](pic11.png)\n",
    "We approximate each segment with trapezoidal area:\n",
    "$$\n",
    "\\int_a^b f(x)dx=\\frac{b-a}{n}\\sum_{i=1}^{n} \\frac{f(x_{i-1})+f(x_i)}{2}=\\frac{b-a}{n}\\left(\\frac{f(a)+f(b)}{2}+\\sum_{i=1}^{n-1} f(x_i)\\right)\n",
    "$$\n",
    "(basically we use the formula for the area of trapezoidal polygon $S=h\\cdot(x+y)/2$ where $h$ is the height of the figure and $x$ and $y$ are lengths of parallel sides).\n",
    "\n",
    "Write the implementation of the formula:"
   ]
  },
  {
   "cell_type": "code",
   "execution_count": null,
   "metadata": {},
   "outputs": [],
   "source": [
    "def trapezoidal(f, a, b, n):\n",
    "    # your code goes here\n",
    "\n",
    "    return I"
   ]
  },
  {
   "cell_type": "markdown",
   "metadata": {},
   "source": [
    "Run the following cell to get automatic basic check of your function (do not change it!):"
   ]
  },
  {
   "cell_type": "code",
   "execution_count": null,
   "metadata": {},
   "outputs": [],
   "source": [
    "checker.exact_check(trapezoidal)"
   ]
  },
  {
   "cell_type": "markdown",
   "metadata": {},
   "source": [
    "### Task 4. Simpson's rule\n",
    "\n",
    "To proceed with the Simpson's rule, we need to improve on the general idea of Riemann sum approximation. Assume the restriction of the function on a segement $[x_{i-1}, x_i]$: instead of using the definition, one could try to approximate given function by one simpler and easier to integrate. \n",
    "\n",
    "Simpson's rule uses approximation by the parabolic function per each segment. In order to it, one needs **three** points -- e.g., $f(x_i)$, $f(x_{i+1}$ and $f\\left(\\frac{x_{i}+x_{i+1}}{2} \\right)$ (the general function is described by $ax^2+bx+c$ with three parameters; following linear algebra's _Rank theorem_, one would need at least three linarly independent equations to find those parameters).\n",
    "![](pic14.png)\n",
    "Then approximation can be written as follows:\n",
    "$$\n",
    "\\int_a^b f(x)dx=\\frac{b-a}{3n}\\left(\\sum_{i=1}^{[n/2]} f(x_{2i-2})+4f(x_{2i-1})+f(x_{2i})\\right)\n",
    "$$\n",
    "\n",
    "Write the implementation of the formula. \n",
    "\n",
    "**Note**: the commulitive formula will work for odd $n$ only, that's fine! (It doesn't mean that in the even case Simpson's rule is inadequate; it is just unpleasant to implement)."
   ]
  },
  {
   "cell_type": "code",
   "execution_count": null,
   "metadata": {},
   "outputs": [],
   "source": [
    "def simpson(f, a, b, n):\n",
    "    #your code goes here\n",
    "    \n",
    "    return I"
   ]
  },
  {
   "cell_type": "markdown",
   "metadata": {},
   "source": [
    "Run the following cell to get automatic basic check of your function (do not change it!):"
   ]
  },
  {
   "cell_type": "code",
   "execution_count": null,
   "metadata": {},
   "outputs": [],
   "source": [
    "checker.exact_checker(simpson)"
   ]
  },
  {
   "cell_type": "markdown",
   "metadata": {},
   "source": [
    "## Error estimations\n",
    "\n",
    "Using **Taylor expansion** of the integrand function, one can establish following estimates of the global errors of the numerical methods.\n",
    "\n",
    "| **Method** |  &nbsp; &nbsp; &nbsp; &nbsp; &nbsp; &nbsp; &nbsp; &nbsp; &nbsp; &nbsp; &nbsp; &nbsp; &nbsp; &nbsp; &nbsp;&nbsp; &nbsp; &nbsp; &nbsp; &nbsp; &nbsp;  **Formula**   &nbsp; &nbsp; &nbsp; &nbsp; &nbsp; &nbsp; &nbsp; &nbsp; &nbsp; &nbsp; &nbsp; &nbsp; &nbsp; &nbsp; &nbsp;&nbsp; &nbsp; &nbsp; &nbsp; &nbsp; &nbsp;        | **Error**  |&nbsp; &nbsp; &nbsp; &nbsp;&nbsp; &nbsp; &nbsp; &nbsp; &nbsp; &nbsp;     **Constant**    &nbsp; &nbsp; &nbsp; &nbsp;&nbsp; &nbsp; &nbsp; &nbsp; &nbsp; &nbsp;  |\n",
    "|---|:--------------------------:|---|---------|\n",
    "| _Middle Point_  | $\\frac{b-a}{n}\\sum_{i=1}^n f\\left( \\frac{x_{i-1}+x_i}{2} \\right) $  |  $\\frac{(b-a)^3}{12n^2}C$  | $\\max_{[a,b]} |f^{(2)}(x)|$ |\n",
    "| _Trapezoidal_  | $\\frac{b-a}{n}\\left(\\frac{f(a)+f(b)}{2}+\\sum_{i=1}^{n-1} f(x_i)\\right)$ | $\\frac{(b-a)^3}{12n^2}C$  | $\\max_{[a,b]} |f^{(2)}(x)|$ |\n",
    "| _Simpson's rule_  | $\\frac{b-a}{3n}\\left(\\sum_{i=1}^{[n/2]} f(x_{2i-2})+4f(x_{2i-1})+f(x_{2i})\\right)$ | $\\frac{(b-a)^5}{180n^4}C $  | $\\max_{[a,b]} |f^{(4)}(x)|$  |\n",
    "\n",
    "Let us check this formula in terms of adequacy for both included derivative and order of the $n$.\n",
    "\n",
    "### Task 5. Error and the derivative\n",
    "\n",
    "Assume $[a,b]=[0,1]$ and $n=100$. Consider the function $f(x)=e^{ax}$ with varying $a$.\n",
    "1. Compute exact value of the integral $\\int_0^1 e^{ax} dx$ analytically (variable `exact`)\n",
    "2. Compute and plot errors for **trapezoidal rule** with respect to $a$:"
   ]
  },
  {
   "cell_type": "code",
   "execution_count": null,
   "metadata": {},
   "outputs": [],
   "source": [
    "coefs=[0.1, 0.2, 0.5, 0.75, 1.0, 2.0, 3.0]\n",
    "errs=[]\n",
    "\n",
    "for a in coefs:\n",
    "    #your code goes here\n",
    "    exact=...\n",
    "    I=...\n",
    "    err=...\n",
    "    errs.append(err)\n",
    "    \n",
    "plt.figure(figsize=(8,8))\n",
    "#your code goes here"
   ]
  },
  {
   "cell_type": "markdown",
   "metadata": {},
   "source": [
    "### Task 6. Error and number of steps\n",
    "\n",
    "Assume $[a,b]=[0,\\pi/2]$. Consider the function $f(x)=\\sin{x}$.\n",
    "1. Compute exact value of the integral $\\int_0^{\\pi/2} \\sin{x} dx$ analytically (variable `exact`)\n",
    "2. Compute and plot errors for different values of $n$ for **all three methods**:"
   ]
  },
  {
   "cell_type": "code",
   "execution_count": null,
   "metadata": {},
   "outputs": [],
   "source": [
    "ns=[10, 50, 100, 500, 1000, 5000, 10000]\n",
    "errs_mp=[]\n",
    "errs_trap=[]\n",
    "errs_simp=[]\n",
    "\n",
    "#your code goes here\n",
    "exact=...\n",
    "\n",
    "for n in ns:\n",
    "    # your code goes here\n",
    "    \n",
    "plt.figure(figsize=(8,8))\n",
    "#your code goes here\n",
    "#please, use loglog scale!"
   ]
  },
  {
   "cell_type": "markdown",
   "metadata": {},
   "source": [
    "## Task 7. Results\n",
    "\n",
    "Answer following questions in the field below:\n",
    "1. By comparing three method which one is best to use for the function $x^x$?\n",
    "2. Does estimations of error for $e^{ax}$ coincide with theoretical upper boundary per $a$? If not, where is the problem?\n",
    "3. Does estimations of error for $\\sin {x}$ coincide with theoretical upper boundary per $n$? If not, where is the problem?"
   ]
  },
  {
   "cell_type": "markdown",
   "metadata": {},
   "source": [
    "1.\n",
    "\n",
    "2.\n",
    "\n",
    "3.\n"
   ]
  }
 ],
 "metadata": {
  "kernelspec": {
   "display_name": "Python 3",
   "language": "python",
   "name": "python3"
  },
  "language_info": {
   "codemirror_mode": {
    "name": "ipython",
    "version": 3
   },
   "file_extension": ".py",
   "mimetype": "text/x-python",
   "name": "python",
   "nbconvert_exporter": "python",
   "pygments_lexer": "ipython3",
   "version": "3.8.3"
  }
 },
 "nbformat": 4,
 "nbformat_minor": 4
}
