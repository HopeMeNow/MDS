{
 "cells": [
  {
   "cell_type": "markdown",
   "metadata": {},
   "source": [
    "# Wikipedia Edits"
   ]
  },
  {
   "cell_type": "markdown",
   "metadata": {},
   "source": [
    "## Week 6. Practice Programming Assignment 1"
   ]
  },
  {
   "cell_type": "markdown",
   "metadata": {},
   "source": [
    "Let's look at top-5 countries of the European Union by population. They are [Germany](https://en.wikipedia.org/w/index.php?title=Germany), [France](https://en.wikipedia.org/w/index.php?title=France), [Italy](https://en.wikipedia.org/w/index.php?title=Italy), [Spain](https://en.wikipedia.org/w/index.php?title=Spain), [Poland](https://en.wikipedia.org/w/index.php?title=Poland).\n",
    "\n",
    "\n",
    "In this assignment you are required to look at wikipedia pages of these countries. More specifically, at history of edits of the pages (Click on 'View History' at the top right when you are on wikipedia article page). You are free to use any scraping tools we have covered to answer the questions, that you will find below."
   ]
  },
  {
   "cell_type": "markdown",
   "metadata": {},
   "source": [
    "###### Import coursera grader tools"
   ]
  },
  {
   "cell_type": "code",
   "execution_count": 1,
   "metadata": {},
   "outputs": [],
   "source": [
    "import sys\n",
    "sys.path.append(\"..\")\n",
    "import grading\n",
    "grader = grading.Grader(assignment_key=\"Qjww7pPCR5uU7FGL3xV9tw\", \n",
    "                      all_parts=[\"XSHot\", \"dPTWK\", \"JquX6\", \"Yjvdq\", \"L53Sc\",\n",
    "                                 \"XUNG7\", \"hyfsg\", \"8S5EP\", \"ZNeVq\", \"GnJp7\"])"
   ]
  },
  {
   "cell_type": "code",
   "execution_count": 193,
   "metadata": {},
   "outputs": [],
   "source": [
    "# token expires every 30 min\n",
    "COURSERA_EMAIL = 'hope2206@yandex.ru'\n",
    "COURSERA_TOKEN = 'KR3jxc7mZacA75fQ'"
   ]
  },
  {
   "cell_type": "markdown",
   "metadata": {},
   "source": [
    "<br><br><br><br>"
   ]
  },
  {
   "cell_type": "markdown",
   "metadata": {},
   "source": [
    "### Coding part"
   ]
  },
  {
   "cell_type": "code",
   "execution_count": 18,
   "metadata": {},
   "outputs": [],
   "source": [
    "history_urls = {\n",
    "    'german': [\n",
    "        'https://en.wikipedia.org/w/index.php?title=Germany&offset=20200124204428%7C937407516&limit=500&action=history'\n",
    "    ],\n",
    "    'france': [\n",
    "        'https://en.wikipedia.org/w/index.php?title=France&offset=&limit=500&action=history',\n",
    "        'https://en.wikipedia.org/w/index.php?title=France&offset=20191114112615%7C926125670&limit=500&action=history'\n",
    "    ],\n",
    "    'italy': [\n",
    "        'https://en.wikipedia.org/w/index.php?title=Italy&offset=20200306183826%7C944262430&limit=500&action=history',\n",
    "        'https://en.wikipedia.org/w/index.php?title=Italy&offset=20190311111910%7C887235955&limit=500&action=history'\n",
    "    ],\n",
    "    'spain': [\n",
    "        'https://en.wikipedia.org/w/index.php?title=Spain&offset=20200514014723%7C956560797&limit=500&action=history',\n",
    "        'https://en.wikipedia.org/w/index.php?title=Spain&offset=20190126063839%7C880236581&limit=500&action=history'\n",
    "    ],\n",
    "    'poland': [\n",
    "        'https://en.wikipedia.org/w/index.php?title=Poland&offset=20200809122200%7C971972432&limit=500&action=history',\n",
    "        'https://en.wikipedia.org/w/index.php?title=Poland&offset=20191205144330%7C929390178&limit=500&action=history'\n",
    "    ]\n",
    "}"
   ]
  },
  {
   "cell_type": "code",
   "execution_count": 178,
   "metadata": {},
   "outputs": [],
   "source": [
    "import requests\n",
    "import re\n",
    "from bs4 import BeautifulSoup\n",
    "import numpy as np\n",
    "import calendar"
   ]
  },
  {
   "cell_type": "code",
   "execution_count": 20,
   "metadata": {},
   "outputs": [],
   "source": [
    "pages = {\n",
    "    'german': [],\n",
    "    'france': [],\n",
    "    'italy': [],\n",
    "    'spain': [],\n",
    "    'poland': []\n",
    "}\n",
    "\n",
    "for country in history_urls.keys():\n",
    "    for url in history_urls[country]:\n",
    "        response = requests.get(url)\n",
    "        if response.status_code == 200:\n",
    "            pages[country].append(BeautifulSoup(response.text))\n",
    "        else:\n",
    "            print(f'Something goes wrong with country {country} url={url}')"
   ]
  },
  {
   "cell_type": "code",
   "execution_count": 62,
   "metadata": {},
   "outputs": [],
   "source": [
    "edits_counts = {\n",
    "    'german': 0,\n",
    "    'france': 0,\n",
    "    'italy': 0,\n",
    "    'spain': 0,\n",
    "    'poland': 0\n",
    "}\n",
    "\n",
    "edits = {\n",
    "    'german': [],\n",
    "    'france': [],\n",
    "    'italy': [],\n",
    "    'spain': [],\n",
    "    'poland': []\n",
    "}\n",
    "\n",
    "for country in pages.keys():\n",
    "    for page in pages[country]:\n",
    "        finded = page.find_all('a', {\"class\": \"mw-changeslist-date\"}, text=re.compile('2019'))\n",
    "        edits[country] += finded\n",
    "        edits_counts[country] += len(finded)"
   ]
  },
  {
   "cell_type": "code",
   "execution_count": 49,
   "metadata": {},
   "outputs": [],
   "source": [
    "edits_count = sum(edits_counts.values())"
   ]
  },
  {
   "cell_type": "code",
   "execution_count": 51,
   "metadata": {},
   "outputs": [
    {
     "data": {
      "text/plain": [
       "601"
      ]
     },
     "execution_count": 51,
     "metadata": {},
     "output_type": "execute_result"
    }
   ],
   "source": [
    "edits_max = max(edits_counts.values())\n",
    "edits_max"
   ]
  },
  {
   "cell_type": "code",
   "execution_count": 54,
   "metadata": {},
   "outputs": [
    {
     "data": {
      "text/plain": [
       "296"
      ]
     },
     "execution_count": 54,
     "metadata": {},
     "output_type": "execute_result"
    }
   ],
   "source": [
    "edits_min = min(edits_counts.values())\n",
    "edits_min"
   ]
  },
  {
   "cell_type": "code",
   "execution_count": 83,
   "metadata": {},
   "outputs": [],
   "source": [
    "users = {\n",
    "    'german': set(),\n",
    "    'france': set(),\n",
    "    'italy': set(),\n",
    "    'spain': set(),\n",
    "    'poland': set()\n",
    "}\n",
    "\n",
    "for country in edits.keys():\n",
    "    for edit in edits[country]:\n",
    "        users[country].add(edit.parent.find('a', { 'class': 'mw-userlink' }).text)"
   ]
  },
  {
   "cell_type": "code",
   "execution_count": 86,
   "metadata": {},
   "outputs": [],
   "source": [
    "users_counts = {\n",
    "    'german': 0,\n",
    "    'france': 0,\n",
    "    'italy': 0,\n",
    "    'spain': 0,\n",
    "    'poland': 0\n",
    "}\n",
    "\n",
    "all_users = set()\n",
    "\n",
    "for country in users.keys():\n",
    "    users_counts[country] += len(users[country])\n",
    "    all_users = all_users.union(users[country])"
   ]
  },
  {
   "cell_type": "code",
   "execution_count": 100,
   "metadata": {},
   "outputs": [],
   "source": [
    "max_users_per_country = max(users_counts.values())"
   ]
  },
  {
   "cell_type": "code",
   "execution_count": 106,
   "metadata": {},
   "outputs": [],
   "source": [
    "users_edits = {}\n",
    "\n",
    "for country in edits.keys():\n",
    "    for edit in edits[country]:\n",
    "        userName = edit.parent.find('a', { 'class': 'mw-userlink' }).text\n",
    "        users_edits.setdefault(userName, 0)\n",
    "        users_edits[userName] += 1"
   ]
  },
  {
   "cell_type": "code",
   "execution_count": 118,
   "metadata": {},
   "outputs": [
    {
     "data": {
      "text/plain": [
       "'Oliszydlowski'"
      ]
     },
     "execution_count": 118,
     "metadata": {},
     "output_type": "execute_result"
    }
   ],
   "source": [
    "user_max_edits = max(users_edits.items(), key=lambda pair: pair[1])[0]\n",
    "user_max_edits"
   ]
  },
  {
   "cell_type": "code",
   "execution_count": 131,
   "metadata": {},
   "outputs": [],
   "source": [
    "average_per_user = np.average(list(users_edits.values()))"
   ]
  },
  {
   "cell_type": "code",
   "execution_count": 144,
   "metadata": {},
   "outputs": [
    {
     "data": {
      "text/plain": [
       "'italy'"
      ]
     },
     "execution_count": 144,
     "metadata": {},
     "output_type": "execute_result"
    }
   ],
   "source": [
    "max_edits_country = max(edits_counts.items(), key=lambda pair: pair[1])[0]\n",
    "max_edits_country"
   ]
  },
  {
   "cell_type": "code",
   "execution_count": 188,
   "metadata": {},
   "outputs": [],
   "source": [
    "days_edits = {}\n",
    "\n",
    "for country in edits.keys():\n",
    "    for edit in edits[country]:\n",
    "        dayParts = edit.text.split()\n",
    "        day = ' '.join([dayParts[1], dayParts[2]])\n",
    "        days_edits.setdefault(day, 0)\n",
    "        days_edits[day] += 1"
   ]
  },
  {
   "cell_type": "code",
   "execution_count": 189,
   "metadata": {},
   "outputs": [
    {
     "data": {
      "text/plain": [
       "6.035616438356165"
      ]
     },
     "execution_count": 189,
     "metadata": {},
     "output_type": "execute_result"
    }
   ],
   "source": [
    "average_per_day = sum(days_edits.values())/365\n",
    "average_per_day"
   ]
  },
  {
   "cell_type": "code",
   "execution_count": 197,
   "metadata": {},
   "outputs": [],
   "source": [
    "country_days_edits = {}\n",
    "\n",
    "for edit in edits[max_edits_country]:\n",
    "    dayParts = edit.text.split()\n",
    "    day = ' '.join([dayParts[1], dayParts[2]])\n",
    "    country_days_edits.setdefault(day, 0)\n",
    "    country_days_edits[day] += 1"
   ]
  },
  {
   "cell_type": "code",
   "execution_count": 198,
   "metadata": {},
   "outputs": [
    {
     "data": {
      "text/plain": [
       "1.6465753424657534"
      ]
     },
     "execution_count": 198,
     "metadata": {},
     "output_type": "execute_result"
    }
   ],
   "source": [
    "country_average_per_day = sum(country_days_edits.values())/365\n",
    "country_average_per_day"
   ]
  },
  {
   "cell_type": "code",
   "execution_count": 203,
   "metadata": {},
   "outputs": [],
   "source": [
    "country_users_edits = {}\n",
    "\n",
    "for edit in edits[max_edits_country]:\n",
    "    userName = edit.parent.find('a', { 'class': 'mw-userlink' }).text\n",
    "    country_users_edits.setdefault(userName, 0)\n",
    "    country_users_edits[userName] += 1"
   ]
  },
  {
   "cell_type": "code",
   "execution_count": 205,
   "metadata": {},
   "outputs": [
    {
     "data": {
      "text/plain": [
       "4.323741007194244"
      ]
     },
     "execution_count": 205,
     "metadata": {},
     "output_type": "execute_result"
    }
   ],
   "source": [
    "country_average_per_user = np.average(list(country_users_edits.values()))\n",
    "country_average_per_user"
   ]
  },
  {
   "cell_type": "markdown",
   "metadata": {},
   "source": [
    "<br><br>\n",
    "\n",
    "### Questions\n",
    "\n",
    "<br><br>\n",
    "\n",
    "**Question 1.** How many edits overall were made on pages of all the countries in 2019? "
   ]
  },
  {
   "cell_type": "code",
   "execution_count": 36,
   "metadata": {},
   "outputs": [],
   "source": [
    "answer_part_1 = edits_count"
   ]
  },
  {
   "cell_type": "code",
   "execution_count": 37,
   "metadata": {},
   "outputs": [],
   "source": [
    "# Setting our answers to grader. Do not change!\n",
    "grader.set_answer(\"XSHot\", answer_part_1)"
   ]
  },
  {
   "cell_type": "markdown",
   "metadata": {},
   "source": [
    "<br>\n",
    "\n",
    "**Question 2.** What is the highest number of edits per country in 2019 among all countries present? "
   ]
  },
  {
   "cell_type": "code",
   "execution_count": 52,
   "metadata": {},
   "outputs": [],
   "source": [
    "answer_part_2 = edits_max"
   ]
  },
  {
   "cell_type": "code",
   "execution_count": 53,
   "metadata": {},
   "outputs": [],
   "source": [
    "# Setting our answers to grader. Do not change!\n",
    "grader.set_answer(\"dPTWK\", answer_part_2)"
   ]
  },
  {
   "cell_type": "markdown",
   "metadata": {},
   "source": [
    "<br>\n",
    "\n",
    "**Question 3.** What is the lowest number of edits per country in 2019 among all countries present? "
   ]
  },
  {
   "cell_type": "code",
   "execution_count": 55,
   "metadata": {},
   "outputs": [],
   "source": [
    "answer_part_3 = edits_min"
   ]
  },
  {
   "cell_type": "code",
   "execution_count": 56,
   "metadata": {},
   "outputs": [],
   "source": [
    "# Setting our answers to grader. Do not change!\n",
    "grader.set_answer(\"JquX6\", answer_part_3)"
   ]
  },
  {
   "cell_type": "markdown",
   "metadata": {},
   "source": [
    "<br>\n",
    "\n",
    "**Question 4.** How many users overall made edits on the countries' pages in 2019? "
   ]
  },
  {
   "cell_type": "code",
   "execution_count": 94,
   "metadata": {},
   "outputs": [],
   "source": [
    "answer_part_4 = len(all_users)"
   ]
  },
  {
   "cell_type": "code",
   "execution_count": 95,
   "metadata": {},
   "outputs": [],
   "source": [
    "# Setting our answers to grader. Do not change!\n",
    "grader.set_answer(\"Yjvdq\", answer_part_4)"
   ]
  },
  {
   "cell_type": "markdown",
   "metadata": {},
   "source": [
    "<br>\n",
    "\n",
    "**Question 5.** What is the highest number of users made edits on country's page among all countries present in 2019? "
   ]
  },
  {
   "cell_type": "code",
   "execution_count": 101,
   "metadata": {},
   "outputs": [],
   "source": [
    "answer_part_5 = max_users_per_country"
   ]
  },
  {
   "cell_type": "code",
   "execution_count": 102,
   "metadata": {},
   "outputs": [],
   "source": [
    "# Setting our answers to grader. Do not change!\n",
    "grader.set_answer(\"L53Sc\", answer_part_5)"
   ]
  },
  {
   "cell_type": "markdown",
   "metadata": {},
   "source": [
    "<br><br>\n",
    "\n",
    "**Question 6.** What user made the most edits? "
   ]
  },
  {
   "cell_type": "code",
   "execution_count": 120,
   "metadata": {},
   "outputs": [],
   "source": [
    "answer_part_6 = user_max_edits"
   ]
  },
  {
   "cell_type": "code",
   "execution_count": 121,
   "metadata": {},
   "outputs": [],
   "source": [
    "# Setting our answers to grader. Do not change!\n",
    "grader.set_answer(\"XUNG7\", answer_part_6)"
   ]
  },
  {
   "cell_type": "markdown",
   "metadata": {},
   "source": [
    "<br>\n",
    "\n",
    "**Question 7.** What is average number of edits per day in 2019? "
   ]
  },
  {
   "cell_type": "code",
   "execution_count": 195,
   "metadata": {},
   "outputs": [],
   "source": [
    "answer_part_7 = average_per_day"
   ]
  },
  {
   "cell_type": "code",
   "execution_count": 196,
   "metadata": {},
   "outputs": [],
   "source": [
    "# Setting our answers to grader. Do not change!\n",
    "grader.set_answer(\"hyfsg\", answer_part_7)"
   ]
  },
  {
   "cell_type": "markdown",
   "metadata": {},
   "source": [
    "<br>\n",
    "\n",
    "**Question 8.** What is average number of edits per user in 2019? "
   ]
  },
  {
   "cell_type": "code",
   "execution_count": 132,
   "metadata": {},
   "outputs": [],
   "source": [
    "answer_part_8 = average_per_user"
   ]
  },
  {
   "cell_type": "code",
   "execution_count": 133,
   "metadata": {},
   "outputs": [],
   "source": [
    "# Setting our answers to grader. Do not change!\n",
    "grader.set_answer(\"8S5EP\", answer_part_8)"
   ]
  },
  {
   "cell_type": "markdown",
   "metadata": {},
   "source": [
    "<br>\n",
    "\n",
    "**Question 9.** What is average number of edits per day in the country with most edits in 2019? "
   ]
  },
  {
   "cell_type": "code",
   "execution_count": 199,
   "metadata": {},
   "outputs": [],
   "source": [
    "answer_part_9 = country_average_per_day"
   ]
  },
  {
   "cell_type": "code",
   "execution_count": 200,
   "metadata": {},
   "outputs": [],
   "source": [
    "# Setting our answers to grader. Do not change!\n",
    "grader.set_answer(\"ZNeVq\", answer_part_9)"
   ]
  },
  {
   "cell_type": "markdown",
   "metadata": {},
   "source": [
    "<br>\n",
    "\n",
    "**Question 10.** What is average number of edits per user in the country with most edits in 2019?"
   ]
  },
  {
   "cell_type": "code",
   "execution_count": 206,
   "metadata": {},
   "outputs": [],
   "source": [
    "answer_part_10 = country_average_per_user"
   ]
  },
  {
   "cell_type": "code",
   "execution_count": 207,
   "metadata": {},
   "outputs": [],
   "source": [
    "# Setting our answers to grader. Do not change!\n",
    "grader.set_answer(\"GnJp7\", answer_part_10)"
   ]
  },
  {
   "cell_type": "markdown",
   "metadata": {},
   "source": [
    "<br>\n",
    "<br>\n",
    "\n",
    "### Submitting answers"
   ]
  },
  {
   "cell_type": "code",
   "execution_count": 208,
   "metadata": {},
   "outputs": [
    {
     "name": "stdout",
     "output_type": "stream",
     "text": [
      "Submitted to Coursera platform. See results on assignment page!\n"
     ]
    }
   ],
   "source": [
    "# you can make submission with answers so far to check yourself at this stage\n",
    "grader.submit(COURSERA_EMAIL, COURSERA_TOKEN)"
   ]
  },
  {
   "cell_type": "code",
   "execution_count": null,
   "metadata": {},
   "outputs": [],
   "source": []
  }
 ],
 "metadata": {
  "kernelspec": {
   "display_name": "Python 3",
   "language": "python",
   "name": "python3"
  },
  "language_info": {
   "codemirror_mode": {
    "name": "ipython",
    "version": 3
   },
   "file_extension": ".py",
   "mimetype": "text/x-python",
   "name": "python",
   "nbconvert_exporter": "python",
   "pygments_lexer": "ipython3",
   "version": "3.8.3"
  }
 },
 "nbformat": 4,
 "nbformat_minor": 4
}
