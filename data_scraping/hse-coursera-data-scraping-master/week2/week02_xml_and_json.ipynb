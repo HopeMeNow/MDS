{
 "cells": [
  {
   "cell_type": "markdown",
   "metadata": {},
   "source": [
    "# Parsing XML and JSON"
   ]
  },
  {
   "cell_type": "markdown",
   "metadata": {},
   "source": [
    "## Week 2. Practice Programming Assignment 1"
   ]
  },
  {
   "cell_type": "markdown",
   "metadata": {},
   "source": [
    "In this assignment you are provided with an XML file and JSON file. The files contain some information about stock prices from Moscow Stock Exchange. You will need to inspect the data to answer some questions. "
   ]
  },
  {
   "cell_type": "markdown",
   "metadata": {},
   "source": [
    "###### Import coursera grader tools"
   ]
  },
  {
   "cell_type": "code",
   "execution_count": 1,
   "metadata": {},
   "outputs": [],
   "source": [
    "import sys\n",
    "sys.path.append(\"..\")\n",
    "import grading\n",
    "grader = grading.Grader(assignment_key=\"Doyqa3BoSgahCPCmHnb8HA\", \n",
    "                      all_parts=[\"hcaCl\", \"xVJ1y\", \"wK84i\", \"7gJ6O\", \"KxRDE\",\n",
    "                                 \"PdSl8\", \"28ZKD\", \"vQHz0\", \"wGRXW\", \"KRfXm\"])"
   ]
  },
  {
   "cell_type": "code",
   "execution_count": 145,
   "metadata": {},
   "outputs": [],
   "source": [
    "# token expires every 30 min\n",
    "COURSERA_EMAIL = 'hope2206@yandex.ru'\n",
    "COURSERA_TOKEN = 'FHlkQoMsjgb585Zg'"
   ]
  },
  {
   "cell_type": "markdown",
   "metadata": {},
   "source": [
    "<br><br><br><br>"
   ]
  },
  {
   "cell_type": "markdown",
   "metadata": {},
   "source": [
    "### Part 1. XML"
   ]
  },
  {
   "cell_type": "markdown",
   "metadata": {},
   "source": [
    "You are provided with file `securities.xml`. Explore it to answer the quesionts."
   ]
  },
  {
   "cell_type": "markdown",
   "metadata": {},
   "source": [
    "**Question 1.** How many elements are in the XML file?"
   ]
  },
  {
   "cell_type": "code",
   "execution_count": 59,
   "metadata": {},
   "outputs": [],
   "source": [
    "import xml.etree.ElementTree as ET\n",
    "\n",
    "xml_file = ET.parse('securities.xml')\n",
    "root = xml_file.getroot()\n",
    "count = sum(1 for _ in root.iter(\"*\"))\n",
    "\n",
    "answer_part_1 = count"
   ]
  },
  {
   "cell_type": "code",
   "execution_count": 60,
   "metadata": {},
   "outputs": [],
   "source": [
    "# Setting our answers to grader. Do not change!\n",
    "grader.set_answer(\"hcaCl\", answer_part_1)"
   ]
  },
  {
   "cell_type": "markdown",
   "metadata": {},
   "source": [
    "<br>\n",
    "\n",
    "**Question 2.** How many XML elements named 'row' are in the XML-file? "
   ]
  },
  {
   "cell_type": "code",
   "execution_count": 61,
   "metadata": {},
   "outputs": [
    {
     "name": "stdout",
     "output_type": "stream",
     "text": [
      "55\n"
     ]
    }
   ],
   "source": [
    "row_count = 0\n",
    "\n",
    "for row in root.iter('row'):\n",
    "    row_count += 1\n",
    "print(row_count)\n",
    "answer_part_2 = row_count"
   ]
  },
  {
   "cell_type": "code",
   "execution_count": 62,
   "metadata": {},
   "outputs": [],
   "source": [
    "# Setting our answers to grader. Do not change!\n",
    "grader.set_answer(\"xVJ1y\", answer_part_2)"
   ]
  },
  {
   "cell_type": "markdown",
   "metadata": {},
   "source": [
    "<br>\n",
    "\n",
    "**Question 3.** What is the height of the file's XML tree? \n",
    "\n",
    "<br>\n",
    "\n",
    "*Note:* By the height of the tree we mean the length of the longest sequence of nodes from root element to a leaf element. For example: let's look at the following XML:\n",
    "\n",
    "```\n",
    "<root>\n",
    "    <element1>\n",
    "        <some_element></some_element>\n",
    "    </element1>\n",
    "    <element_2></element_2>\n",
    "</root>\n",
    "```\n",
    "\n",
    "The height of the tree here is 3, since there are two sequences from root to leaf:\n",
    "\n",
    "1. `<root>` - `<element_1>` - `<some_element>`\n",
    "2. `<root>` - `<element_2>`\n",
    "\n",
    "The first sequence is the longest, and its length is 3."
   ]
  },
  {
   "cell_type": "code",
   "execution_count": 63,
   "metadata": {},
   "outputs": [],
   "source": [
    "def find_height(node):\n",
    "    \n",
    "    if len(node) == 0:\n",
    "        return 1\n",
    "    else:\n",
    "        max_height = 0\n",
    "        for child in node:\n",
    "            max_height = max(max_height, 1 + find_height(child))\n",
    "        return max_height\n",
    "\n",
    "answer_part_3 = find_height(root)"
   ]
  },
  {
   "cell_type": "code",
   "execution_count": 64,
   "metadata": {},
   "outputs": [],
   "source": [
    "# Setting our answers to grader. Do not change!\n",
    "grader.set_answer(\"wK84i\", answer_part_3)"
   ]
  },
  {
   "cell_type": "markdown",
   "metadata": {},
   "source": [
    "<br>\n",
    "\n",
    "Each `row` element contains data about some stock in its attribute values. For example, attributes CLOSE and OPEN stand for close price and open price for a stock in this day accordingly. Attribute VOLUME stands for total trade volume of the stock in this particular day.\n",
    "\n",
    "**Question 4.** What is average value of a difference between CLOSE and OPEN prices among all stocks present? \n",
    "\n",
    "*Note:* If a stock doesn't have data about its CLOSE and OPEN prices, skip it."
   ]
  },
  {
   "cell_type": "code",
   "execution_count": 69,
   "metadata": {},
   "outputs": [
    {
     "data": {
      "text/plain": [
       "-81.72016052499997"
      ]
     },
     "execution_count": 69,
     "metadata": {},
     "output_type": "execute_result"
    }
   ],
   "source": [
    "import numpy as np\n",
    "\n",
    "rows = root.findall('data/rows/row')\n",
    "\n",
    "diffs = []\n",
    "\n",
    "for row in rows:\n",
    "    if (\n",
    "        'OPEN' in row.attrib and\n",
    "        row.attrib['OPEN'] != '' and\n",
    "        'CLOSE' in row.attrib and\n",
    "        row.attrib['CLOSE'] != ''\n",
    "    ):\n",
    "        diffs.append(float(row.attrib['CLOSE']) - float(row.attrib['OPEN']))\n",
    "\n",
    "answer_part_4 = np.average(diffs)\n",
    "answer_part_4"
   ]
  },
  {
   "cell_type": "code",
   "execution_count": 70,
   "metadata": {},
   "outputs": [],
   "source": [
    "# Setting our answers to grader. Do not change!\n",
    "grader.set_answer(\"7gJ6O\", answer_part_4)"
   ]
  },
  {
   "cell_type": "markdown",
   "metadata": {},
   "source": [
    "<br>\n",
    "\n",
    "**Question 5.** What is the value of largest VOLUME among all stocks present? "
   ]
  },
  {
   "cell_type": "code",
   "execution_count": 73,
   "metadata": {},
   "outputs": [
    {
     "data": {
      "text/plain": [
       "63615300000.0"
      ]
     },
     "execution_count": 73,
     "metadata": {},
     "output_type": "execute_result"
    }
   ],
   "source": [
    "max_vol = -np.inf\n",
    "\n",
    "for row in rows:\n",
    "    if (\n",
    "        'VOLUME' in row.attrib and\n",
    "        row.attrib['VOLUME'] != ''\n",
    "    ):\n",
    "        max_vol = max(max_vol, float(row.attrib['VOLUME']))\n",
    "        \n",
    "        \n",
    "answer_part_5 = max_vol\n",
    "answer_part_5"
   ]
  },
  {
   "cell_type": "code",
   "execution_count": 74,
   "metadata": {},
   "outputs": [],
   "source": [
    "# Setting our answers to grader. Do not change!\n",
    "grader.set_answer(\"KxRDE\", answer_part_5)"
   ]
  },
  {
   "cell_type": "markdown",
   "metadata": {},
   "source": [
    "<br><br><br><br><br>"
   ]
  },
  {
   "cell_type": "markdown",
   "metadata": {},
   "source": [
    "### Part 2. JSON"
   ]
  },
  {
   "cell_type": "markdown",
   "metadata": {},
   "source": [
    "You are provided with file `securities.json`. It also has some information about stocks, but It has a slightly different structure. Explore it to answer the quesionts.\n",
    "\n",
    "*Note:* `data`-element in the file containts rows with data values. To see names for these values (what data value means what) you need to check element `securities['history']['columns']`\n",
    "\n",
    "<br>"
   ]
  },
  {
   "cell_type": "markdown",
   "metadata": {},
   "source": [
    "\n",
    "\n",
    "**Question 6.** What is the height of the file's JSON tree? \n",
    "\n",
    "*Note:* By the height of the tree we mean the length of the longest sequence of nodes from root element to a leaf element (similar to the height of an XML defined in Question 3)"
   ]
  },
  {
   "cell_type": "code",
   "execution_count": 94,
   "metadata": {},
   "outputs": [],
   "source": [
    "import json\n",
    "\n",
    "with open('securities.json') as f:\n",
    "    json_file = json.load(f)"
   ]
  },
  {
   "cell_type": "code",
   "execution_count": 95,
   "metadata": {},
   "outputs": [
    {
     "data": {
      "text/plain": [
       "dict_keys(['history', 'history.cursor'])"
      ]
     },
     "execution_count": 95,
     "metadata": {},
     "output_type": "execute_result"
    }
   ],
   "source": [
    "json_file.keys()"
   ]
  },
  {
   "cell_type": "code",
   "execution_count": 105,
   "metadata": {},
   "outputs": [],
   "source": [
    "def find_height(node):\n",
    "    if not isinstance(node, dict):\n",
    "        return 1\n",
    "    else:\n",
    "        max_height = -np.inf\n",
    "        for key in node.keys():\n",
    "            max_height = max(max_height, 1 + find_height(node[key]))\n",
    "        return max_height\n",
    "\n",
    "answer_part_6 = find_height(json_file)"
   ]
  },
  {
   "cell_type": "code",
   "execution_count": 106,
   "metadata": {},
   "outputs": [],
   "source": [
    "# Setting our answers to grader. Do not change!\n",
    "grader.set_answer(\"PdSl8\", answer_part_6)"
   ]
  },
  {
   "cell_type": "markdown",
   "metadata": {},
   "source": [
    "<br>\n",
    "\n",
    "**Question 7.** How many branches does `data` element have? "
   ]
  },
  {
   "cell_type": "code",
   "execution_count": 143,
   "metadata": {},
   "outputs": [
    {
     "data": {
      "text/plain": [
       "63"
      ]
     },
     "execution_count": 143,
     "metadata": {},
     "output_type": "execute_result"
    }
   ],
   "source": [
    "def count_branches(node):\n",
    "    if 'data' in node.keys():\n",
    "        return 1\n",
    "    else:\n",
    "        branch_count = 0\n",
    "        for key in node.keys():\n",
    "            branch_count += count_branches(node[key])\n",
    "        return branch_count\n",
    "\n",
    "answer_part_7 = len(json_file['history']['data'])\n",
    "answer_part_7"
   ]
  },
  {
   "cell_type": "code",
   "execution_count": 142,
   "metadata": {},
   "outputs": [],
   "source": [
    "# Setting our answers to grader. Do not change!\n",
    "grader.set_answer(\"28ZKD\", answer_part_7)"
   ]
  },
  {
   "cell_type": "markdown",
   "metadata": {},
   "source": [
    "<br>\n",
    "\n",
    "**Question 8.** What is the average value of a difference between HIGH and LOW prices? \n",
    "\n",
    "*Note:* If a stock doesn't have data about its HIGH and LOW prices, skip it."
   ]
  },
  {
   "cell_type": "code",
   "execution_count": 130,
   "metadata": {},
   "outputs": [],
   "source": [
    "index_high = json_file['history']['columns'].index('HIGH')\n",
    "index_low = json_file['history']['columns'].index('LOW')\n",
    "\n",
    "diffs = []\n",
    "\n",
    "for row in json_file['history']['data']:\n",
    "    if row[index_high] and row[index_low]:\n",
    "        diffs.append(row[index_high] - row[index_low])\n",
    "\n",
    "answer_part_8 = np.average(diffs)"
   ]
  },
  {
   "cell_type": "code",
   "execution_count": 131,
   "metadata": {},
   "outputs": [],
   "source": [
    "# Setting our answers to grader. Do not change!\n",
    "grader.set_answer(\"vQHz0\", answer_part_8)"
   ]
  },
  {
   "cell_type": "markdown",
   "metadata": {},
   "source": [
    "<br>\n",
    "\n",
    "**Question 9.** How many unique values of BOARDID do we see in data? "
   ]
  },
  {
   "cell_type": "code",
   "execution_count": 138,
   "metadata": {},
   "outputs": [
    {
     "data": {
      "text/plain": [
       "2"
      ]
     },
     "execution_count": 138,
     "metadata": {},
     "output_type": "execute_result"
    }
   ],
   "source": [
    "board_ids = []\n",
    "\n",
    "for board in json_file['history']['data']:\n",
    "    board_ids.append(board[0])\n",
    "\n",
    "answer_part_9 = len(np.unique(board_ids))\n",
    "answer_part_9"
   ]
  },
  {
   "cell_type": "code",
   "execution_count": 139,
   "metadata": {},
   "outputs": [],
   "source": [
    "# Setting our answers to grader. Do not change!\n",
    "grader.set_answer(\"wGRXW\", answer_part_9)"
   ]
  },
  {
   "cell_type": "markdown",
   "metadata": {},
   "source": [
    "<br>\n",
    "\n",
    "**Question 10.** What value of BOARDID is the most occuring?  "
   ]
  },
  {
   "cell_type": "code",
   "execution_count": 152,
   "metadata": {},
   "outputs": [
    {
     "name": "stdout",
     "output_type": "stream",
     "text": [
      "['RTSI' 'SNDX']\n",
      "30\n",
      "33\n"
     ]
    }
   ],
   "source": [
    "print(np.unique(board_ids))\n",
    "print(board_ids.count('RTSI'))\n",
    "print(board_ids.count('SNDX'))\n",
    "\n",
    "answer_part_10 = 'SNDX'"
   ]
  },
  {
   "cell_type": "code",
   "execution_count": 153,
   "metadata": {},
   "outputs": [],
   "source": [
    "# Setting our answers to grader. Do not change!\n",
    "grader.set_answer(\"KRfXm\", answer_part_10)"
   ]
  },
  {
   "cell_type": "markdown",
   "metadata": {},
   "source": [
    "<br>\n",
    "<br>\n",
    "\n",
    "### Submitting answers"
   ]
  },
  {
   "cell_type": "code",
   "execution_count": 154,
   "metadata": {},
   "outputs": [
    {
     "name": "stdout",
     "output_type": "stream",
     "text": [
      "Submitted to Coursera platform. See results on assignment page!\n"
     ]
    }
   ],
   "source": [
    "# you can make submission with answers so far to check yourself at this stage\n",
    "grader.submit(COURSERA_EMAIL, COURSERA_TOKEN)"
   ]
  },
  {
   "cell_type": "code",
   "execution_count": null,
   "metadata": {},
   "outputs": [],
   "source": []
  }
 ],
 "metadata": {
  "kernelspec": {
   "display_name": "Python 3",
   "language": "python",
   "name": "python3"
  },
  "language_info": {
   "codemirror_mode": {
    "name": "ipython",
    "version": 3
   },
   "file_extension": ".py",
   "mimetype": "text/x-python",
   "name": "python",
   "nbconvert_exporter": "python",
   "pygments_lexer": "ipython3",
   "version": "3.8.3"
  }
 },
 "nbformat": 4,
 "nbformat_minor": 4
}
